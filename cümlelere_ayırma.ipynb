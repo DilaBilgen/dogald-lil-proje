{
 "cells": [
  {
   "cell_type": "code",
   "execution_count": 1,
   "id": "25d5f49f-f8ad-490f-8fb8-5751c51205cc",
   "metadata": {},
   "outputs": [
    {
     "name": "stdout",
     "output_type": "stream",
     "text": [
      "                                                  text  \\\n",
      "0    Up to\\n$100 off\\nroundtrip\\nflights to\\nIrelan...   \n",
      "1    yp The Real\\nур\\nYellow Pages\\nFind cheap\\ngas...   \n",
      "2    Food Navigator\\nUSA\\nPlant-based meat:\\nBeyond...   \n",
      "3    MONSTROUS\\nAIRFLOW\\n$20-$23\\nDURAMAX\\nbanks\\n+...   \n",
      "4    YUMMY\\nCOMBS\\n*\\na\\nNutriti\\nWellne\\nNOW\\nSafe...   \n",
      "..                                                 ...   \n",
      "995  Ochrome OS\\nDevice management\\nmade simple and...   \n",
      "996  Continue to Recipe\\n3 Easy Steps:\\n1) Click \"C...   \n",
      "997  WIN THIS HOUSE\\nAND START\\nEVERY DAY HERE\\nAll...   \n",
      "998  EVIDENT OLYMPUS\\nSZX-AR1 Augmented\\nReality Mi...   \n",
      "999  Searching for Speakers?\\nCompare\\nBefore You B...   \n",
      "\n",
      "                                              cümleler  \n",
      "0    [Up to\\n$100 off\\nroundtrip\\nflights to\\nIrela...  \n",
      "1    [yp The Real\\nур\\nYellow Pages\\nFind cheap\\nga...  \n",
      "2    [Food Navigator\\nUSA\\nPlant-based meat:\\nBeyon...  \n",
      "3    [MONSTROUS\\nAIRFLOW\\n$20-$23\\nDURAMAX\\nbanks\\n...  \n",
      "4    [YUMMY\\nCOMBS\\n*\\na\\nNutriti\\nWellne\\nNOW\\nSaf...  \n",
      "..                                                 ...  \n",
      "995  [Ochrome OS\\nDevice management\\nmade simple an...  \n",
      "996  [Continue to Recipe\\n3 Easy Steps:\\n1) Click \"...  \n",
      "997  [WIN THIS HOUSE\\nAND START\\nEVERY DAY HERE\\nAl...  \n",
      "998  [EVIDENT OLYMPUS\\nSZX-AR1 Augmented\\nReality M...  \n",
      "999  [Searching for Speakers?, Compare\\nBefore You ...  \n",
      "\n",
      "[1000 rows x 2 columns]\n"
     ]
    },
    {
     "name": "stderr",
     "output_type": "stream",
     "text": [
      "[nltk_data] Downloading package punkt to\n",
      "[nltk_data]     C:\\Users\\Dila\\AppData\\Roaming\\nltk_data...\n",
      "[nltk_data]   Package punkt is already up-to-date!\n"
     ]
    }
   ],
   "source": [
    "import pandas as pd\n",
    "import nltk\n",
    "nltk.download('punkt')\n",
    "from nltk.tokenize import sent_tokenize\n",
    "\n",
    "dosya_yolu=pd.read_csv('ads_dataset.csv')\n",
    "dosya_yolu['cümleler']=dosya_yolu['text'].apply(lambda x: sent_tokenize(str(x)))\n",
    "\n",
    "print(dosya_yolu[['text', 'cümleler']])\n",
    "\n",
    "dosya_yolu.to_csv('cumlelere_ayrilmis_yorumlar.csv')"
   ]
  },
  {
   "cell_type": "code",
   "execution_count": null,
   "id": "5218770e-dff6-41e6-84e3-84e46fc62d5c",
   "metadata": {},
   "outputs": [],
   "source": []
  }
 ],
 "metadata": {
  "kernelspec": {
   "display_name": "Python [conda env:base] *",
   "language": "python",
   "name": "conda-base-py"
  },
  "language_info": {
   "codemirror_mode": {
    "name": "ipython",
    "version": 3
   },
   "file_extension": ".py",
   "mimetype": "text/x-python",
   "name": "python",
   "nbconvert_exporter": "python",
   "pygments_lexer": "ipython3",
   "version": "3.12.7"
  }
 },
 "nbformat": 4,
 "nbformat_minor": 5
}

{
 "cells": [
  {
   "cell_type": "code",
   "execution_count": 1,
   "id": "39121248-03ef-432e-b958-00718ab2c3ff",
   "metadata": {},
   "outputs": [
    {
     "name": "stderr",
     "output_type": "stream",
     "text": [
      "[nltk_data] Downloading package punkt to\n",
      "[nltk_data]     C:\\Users\\Dila\\AppData\\Roaming\\nltk_data...\n",
      "[nltk_data]   Package punkt is already up-to-date!\n"
     ]
    },
    {
     "name": "stdout",
     "output_type": "stream",
     "text": [
      "                                  temizlenmis_cümleler  \\\n",
      "0    [['roundtrip', 'flights', 'ireland'], ['travel...   \n",
      "1    [['yp', 'real', 'ур', 'yellow', 'pages', 'find...   \n",
      "2    [['food', 'navigator', 'usa', 'meat', 'beyond'...   \n",
      "3    [['monstrous', 'airflow', 'duramax', 'banks', ...   \n",
      "4    [['yummy', 'combs', 'nutriti', 'wellne', 'safe...   \n",
      "..                                                 ...   \n",
      "995  [['ochrome', 'os', 'device', 'management', 'ma...   \n",
      "996  [['continue', 'recipe', 'easy', 'steps', 'clic...   \n",
      "997  [['win', 'house', 'start', 'every', 'day', 'su...   \n",
      "998  [['evident', 'olympus', 'augmented', 'reality'...   \n",
      "999  [['searching', 'speakers'], ['compare', 'buy',...   \n",
      "\n",
      "                                   stemlenmis_cümleler  \n",
      "0    [[roundtrip, flight, ireland], [travel, term, ...  \n",
      "1    [[yp, real, ур, yellow, page, find, cheap, ga,...  \n",
      "2    [[food, navig, usa, meat, beyond, honeymoon, p...  \n",
      "3    [[monstrou, airflow, duramax, bank, bigger, ba...  \n",
      "4    [[yummi, comb, nutriti, welln, safest, nutriti...  \n",
      "..                                                 ...  \n",
      "995  [[ochrom, os, devic, manag, made, simpl, secur...  \n",
      "996  [[continu, recip, easi, step, click, continu, ...  \n",
      "997  [[win, hous, start, everi, day, support], [omaz]]  \n",
      "998  [[evid, olympu, augment, realiti, microscop, s...  \n",
      "999  [[search, speaker], [compar, buy, compar, boat...  \n",
      "\n",
      "[1000 rows x 2 columns]\n"
     ]
    }
   ],
   "source": [
    "import pandas as pd\n",
    "import nltk\n",
    "from nltk.stem import PorterStemmer\n",
    "nltk.download('punkt')\n",
    "\n",
    "stemmer=PorterStemmer()\n",
    "\n",
    "dosya_yolu=pd.read_csv(\"temizlenmis_cümleler.csv\")\n",
    "\n",
    "def stemle(cumleler):\n",
    "    sonuc = []\n",
    "    for cumle in eval(str(cumleler)):\n",
    "        stemlenmis = [stemmer.stem(kelime) for kelime in cumle]\n",
    "        sonuc.append(stemlenmis)\n",
    "    return sonuc\n",
    "\n",
    "dosya_yolu['stemlenmis_cümleler'] = dosya_yolu['temizlenmis_cümleler'].apply(stemle)\n",
    "\n",
    "print(dosya_yolu[['temizlenmis_cümleler', 'stemlenmis_cümleler']])\n",
    "dosya_yolu.to_csv('stemlenmis_yorumlar.csv')"
   ]
  },
  {
   "cell_type": "code",
   "execution_count": null,
   "id": "40d45a19-bc79-49df-9f7b-412091b8159a",
   "metadata": {},
   "outputs": [],
   "source": [
    "ss"
   ]
  }
 ],
 "metadata": {
  "kernelspec": {
   "display_name": "Python [conda env:base] *",
   "language": "python",
   "name": "conda-base-py"
  },
  "language_info": {
   "codemirror_mode": {
    "name": "ipython",
    "version": 3
   },
   "file_extension": ".py",
   "mimetype": "text/x-python",
   "name": "python",
   "nbconvert_exporter": "python",
   "pygments_lexer": "ipython3",
   "version": "3.12.7"
  }
 },
 "nbformat": 4,
 "nbformat_minor": 5
}

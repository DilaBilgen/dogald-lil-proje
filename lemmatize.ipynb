{
 "cells": [
  {
   "cell_type": "code",
   "execution_count": 3,
   "id": "e7825f14-30ba-4f88-8222-62fc401d0581",
   "metadata": {},
   "outputs": [
    {
     "name": "stderr",
     "output_type": "stream",
     "text": [
      "[nltk_data] Downloading package wordnet to\n",
      "[nltk_data]     C:\\Users\\Dila\\AppData\\Roaming\\nltk_data...\n",
      "[nltk_data]   Package wordnet is already up-to-date!\n"
     ]
    },
    {
     "name": "stdout",
     "output_type": "stream",
     "text": [
      "                                  temizlenmis_cümleler  \\\n",
      "0    [['roundtrip', 'flights', 'ireland'], ['travel...   \n",
      "1    [['yp', 'real', 'ур', 'yellow', 'pages', 'find...   \n",
      "2    [['food', 'navigator', 'usa', 'meat', 'beyond'...   \n",
      "3    [['monstrous', 'airflow', 'duramax', 'banks', ...   \n",
      "4    [['yummy', 'combs', 'nutriti', 'wellne', 'safe...   \n",
      "..                                                 ...   \n",
      "995  [['ochrome', 'os', 'device', 'management', 'ma...   \n",
      "996  [['continue', 'recipe', 'easy', 'steps', 'clic...   \n",
      "997  [['win', 'house', 'start', 'every', 'day', 'su...   \n",
      "998  [['evident', 'olympus', 'augmented', 'reality'...   \n",
      "999  [['searching', 'speakers'], ['compare', 'buy',...   \n",
      "\n",
      "                                    lemmatize_cümleler  \n",
      "0    [[roundtrip, flight, ireland], [travel, term, ...  \n",
      "1    [[yp, real, ур, yellow, page, find, cheap, gas...  \n",
      "2    [[food, navigator, usa, meat, beyond, honeymoo...  \n",
      "3    [[monstrous, airflow, duramax, bank, bigger, b...  \n",
      "4    [[yummy, comb, nutriti, wellne, safest, nutrit...  \n",
      "..                                                 ...  \n",
      "995  [[ochrome, o, device, management, made, simple...  \n",
      "996  [[continue, recipe, easy, step, click, continu...  \n",
      "997  [[win, house, start, every, day, support], [om...  \n",
      "998  [[evident, olympus, augmented, reality, micros...  \n",
      "999  [[searching, speaker], [compare, buy, compare,...  \n",
      "\n",
      "[1000 rows x 2 columns]\n"
     ]
    }
   ],
   "source": [
    "import pandas as pd\n",
    "import nltk\n",
    "from nltk.stem import WordNetLemmatizer\n",
    "nltk.download('wordnet')\n",
    "\n",
    "lemmatizer=WordNetLemmatizer()\n",
    "dosya_yolu=pd.read_csv(\"temizlenmis_cümleler.csv\")\n",
    "\n",
    "def lemmatize_et(cumleler):\n",
    "    sonuc = []\n",
    "    for cumle in eval(str(cumleler)):\n",
    "        lemmatize_edilmis = [lemmatizer.lemmatize(kelime) for kelime in cumle]\n",
    "        sonuc.append(lemmatize_edilmis)\n",
    "    return sonuc\n",
    "\n",
    "dosya_yolu['lemmatize_cümleler'] = dosya_yolu['temizlenmis_cümleler'].apply(lemmatize_et)\n",
    "print(dosya_yolu[['temizlenmis_cümleler','lemmatize_cümleler']])\n",
    "dosya_yolu.to_csv('lemmatize_edilmis_yorumlar.csv')"
   ]
  },
  {
   "cell_type": "code",
   "execution_count": null,
   "id": "36e4e421-9f02-4af5-aa3b-9e7b9d7f5007",
   "metadata": {},
   "outputs": [],
   "source": []
  }
 ],
 "metadata": {
  "kernelspec": {
   "display_name": "Python [conda env:base] *",
   "language": "python",
   "name": "conda-base-py"
  },
  "language_info": {
   "codemirror_mode": {
    "name": "ipython",
    "version": 3
   },
   "file_extension": ".py",
   "mimetype": "text/x-python",
   "name": "python",
   "nbconvert_exporter": "python",
   "pygments_lexer": "ipython3",
   "version": "3.12.7"
  }
 },
 "nbformat": 4,
 "nbformat_minor": 5
}
